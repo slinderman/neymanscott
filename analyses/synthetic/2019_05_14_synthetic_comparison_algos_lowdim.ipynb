{
 "cells": [
  {
   "cell_type": "code",
   "execution_count": 1,
   "metadata": {},
   "outputs": [],
   "source": [
    "%load_ext autoreload\n",
    "%autoreload 2"
   ]
  },
  {
   "cell_type": "code",
   "execution_count": 2,
   "metadata": {},
   "outputs": [],
   "source": [
    "import numpy as np\n",
    "import numpy.random as npr\n",
    "\n",
    "import matplotlib.pyplot as plt\n",
    "from matplotlib.cm import jet\n",
    "%matplotlib inline\n",
    "\n",
    "import seaborn as sns\n",
    "sns.set_context(\"paper\")\n",
    "sns.set_style(\"ticks\")"
   ]
  },
  {
   "cell_type": "code",
   "execution_count": 3,
   "metadata": {},
   "outputs": [],
   "source": [
    "from background import NodeAndTimeAndMarkBackground, UniformTimeBackground, GaussianBackground, TimeAndMarkBackground\n",
    "from clusters import NodeAndTimeAndMarkCluster, ExponentialTimeCluster, GaussianCluster, DefaultClusterFactory, TimeAndMarkCluster\n",
    "from models import DirichletProcessMixtureModel, NeymanScottModel\n",
    "from util import permute_to_match, onehot, compute_state_overlap"
   ]
  },
  {
   "cell_type": "code",
   "execution_count": 4,
   "metadata": {},
   "outputs": [],
   "source": [
    "npr.seed(0)"
   ]
  },
  {
   "cell_type": "code",
   "execution_count": 5,
   "metadata": {},
   "outputs": [],
   "source": [
    "# Make a Neyman-Scott model with gaussian marks\n",
    "T = 100           # time window\n",
    "M = 1             # number of nodes\n",
    "data_dim = 2      # dimensionality of marks (e.g. vocab size in multinomial model)\n",
    "lmbda0 = 100      # background rate of events (across all nodes)\n",
    "tau = 5           # time constant of exponential impulse responses\n",
    "mu = 20           # rate of latent events\n",
    "alpha = 1         # shape of gamma prior on latent event weights\n",
    "beta = alpha/20       # rate of gamma prior on latent event weights\n",
    "\n",
    "# specify hyperparameters of cluster marks\n",
    "niw_hypers = dict(mu0=np.zeros(data_dim),\n",
    "                  lmbda=0.1,\n",
    "                  Psi=(data_dim + 1 - 1) * np.eye(data_dim),\n",
    "                  nu=data_dim+1)"
   ]
  },
  {
   "cell_type": "code",
   "execution_count": 6,
   "metadata": {},
   "outputs": [],
   "source": [
    "bkgd_class = NodeAndTimeAndMarkBackground\n",
    "bkgd_hypers = dict(\n",
    "    num_nodes=M,\n",
    "    node_distribution=np.ones(M) / M,\n",
    "    time_class=UniformTimeBackground,\n",
    "    time_kwargs=dict(T=T),\n",
    "    mark_class=GaussianBackground,\n",
    "    mark_kwargs=dict(data_dim=data_dim),\n",
    "    )\n",
    "\n",
    "# bkgd_class = GaussianBackground\n",
    "# bkgd_hypers = dict(data_dim=data_dim)\n",
    "\n",
    "cluster_class = NodeAndTimeAndMarkCluster\n",
    "cluster_hypers = dict(\n",
    "    num_nodes=M,\n",
    "    node_concentration=0.5,\n",
    "    time_class=ExponentialTimeCluster,\n",
    "    time_kwargs=dict(T=T, tau=tau),\n",
    "    mark_class=GaussianCluster,\n",
    "    mark_kwargs=niw_hypers,\n",
    "    )\n",
    "# cluster_class = GaussianCluster\n",
    "# cluster_hypers=niw_hypers"
   ]
  },
  {
   "cell_type": "markdown",
   "metadata": {},
   "source": [
    "# Generate synthetic data and compare Gibbs to RJMCMC"
   ]
  },
  {
   "cell_type": "code",
   "execution_count": 7,
   "metadata": {},
   "outputs": [],
   "source": [
    "true_model = NeymanScottModel(mu, alpha, beta, lmbda0, \n",
    "                              bkgd_class(**bkgd_hypers), \n",
    "                              DefaultClusterFactory(cluster_class, cluster_hypers))\n",
    "\n",
    "# Sample from the model\n",
    "sample_kwargs = dict(time_kwargs=dict(), mark_kwargs=dict())\n",
    "data, parents, clusters, weights = true_model.generate(**sample_kwargs)\n",
    "times, marks = data[:, 0], data[:, 1:]\n",
    "\n",
    "# Only keep the valid times\n",
    "# valid = times < T\n",
    "valid = np.ones_like(times, dtype=bool)\n",
    "times = times[valid]\n",
    "marks = marks[valid]\n",
    "parents = parents[valid]\n",
    "\n",
    "# Sort the data by time\n",
    "perm = np.argsort(times)\n",
    "times = times[perm]\n",
    "marks = marks[perm]\n",
    "parents = parents[perm]\n",
    "data = np.column_stack((times, marks))\n",
    "# data, parents, clusters, weights = true_model.generate()"
   ]
  },
  {
   "cell_type": "code",
   "execution_count": 8,
   "metadata": {},
   "outputs": [
    {
     "data": {
      "image/png": "[encoded data removed]",
      "text/plain": [
       "<Figure size 432x432 with 1 Axes>"
      ]
     },
     "metadata": {
      "needs_background": "light"
     },
     "output_type": "display_data"
    }
   ],
   "source": [
    "plt.figure(figsize=(6, 6))\n",
    "ylim = 1.1 * abs(data).max()\n",
    "for z in np.unique(parents):\n",
    "    inds = np.where(parents == z)[0]\n",
    "    plt.plot(data[inds, 1], data[inds, 2], 'o' if z >= 0 else 'ko')\n",
    "#     plt.plot(data[inds], data[inds] + npr.randn(inds.size), 'o' if z >= 0 else 'ko')\n",
    "\n",
    "plt.ylabel(\"Mark Dim 1\")\n",
    "plt.ylim(-ylim, ylim)\n",
    "\n",
    "plt.tight_layout()"
   ]
  },
  {
   "cell_type": "code",
   "execution_count": 9,
   "metadata": {},
   "outputs": [
    {
     "name": "stdout",
     "output_type": "stream",
     "text": [
      "true num clusters:  17\n",
      "true lp:  -1228.4005722017318\n",
      "precomputing log_Vs\n"
     ]
    },
    {
     "data": {
      "application/vnd.jupyter.widget-view+json": {
       "model_id": "a8c8337dcf1047389caf2427781a2ca5",
       "version_major": 2,
       "version_minor": 0
      },
      "text/plain": [
       "HBox(children=(IntProgress(value=0, max=340), HTML(value='')))"
      ]
     },
     "metadata": {},
     "output_type": "display_data"
    },
    {
     "name": "stdout",
     "output_type": "stream",
     "text": [
      "\n",
      "Gibbs sampling event parents\n"
     ]
    },
    {
     "data": {
      "application/vnd.jupyter.widget-view+json": {
       "model_id": "e90926e5118f4ab2bf549cfca846726a",
       "version_major": 2,
       "version_minor": 0
      },
      "text/plain": [
       "HBox(children=(IntProgress(value=0), HTML(value='')))"
      ]
     },
     "metadata": {},
     "output_type": "display_data"
    },
    {
     "name": "stdout",
     "output_type": "stream",
     "text": [
      "num clusters:  16  lp:  -1296.2154830435516\n",
      "num clusters:  17  lp:  -1258.0503142922935\n",
      "num clusters:  17  lp:  -1261.9560680666173\n",
      "num clusters:  16  lp:  -1250.9260886985446\n",
      "num clusters:  17  lp:  -1299.5435197587522\n",
      "num clusters:  15  lp:  -1241.6458420833526\n",
      "num clusters:  17  lp:  -1265.614908154641\n",
      "num clusters:  17  lp:  -1237.83470294271\n",
      "num clusters:  16  lp:  -1243.4740997106073\n",
      "num clusters:  17  lp:  -1241.232619163799\n",
      "num clusters:  16  lp:  -1246.7313675436717\n",
      "num clusters:  18  lp:  -1246.725573380215\n",
      "num clusters:  18  lp:  -1261.6342797314283\n",
      "num clusters:  19  lp:  -1244.8917892005638\n",
      "num clusters:  20  lp:  -1267.0742335270947\n",
      "num clusters:  19  lp:  -1231.3265437665773\n",
      "num clusters:  20  lp:  -1287.6214772682183\n",
      "num clusters:  21  lp:  -1254.0436176756875\n",
      "num clusters:  20  lp:  -1255.4783256638107\n",
      "num clusters:  20  lp:  -1254.821365135318\n",
      "num clusters:  20  lp:  -1287.8474531748134\n",
      "num clusters:  20  lp:  -1277.9478675633802\n",
      "num clusters:  18  lp:  -1227.5797432154013\n",
      "num clusters:  17  lp:  -1222.7218174635052\n",
      "num clusters:  18  lp:  -1219.9716195230294\n",
      "num clusters:  17  lp:  -1250.3088153867234\n",
      "num clusters:  18  lp:  -1212.1891617360634\n",
      "num clusters:  17  lp:  -1224.039698587538\n",
      "num clusters:  17  lp:  -1236.6687083552974\n",
      "num clusters:  17  lp:  -1239.8999748622282\n",
      "num clusters:  17  lp:  -1238.9346487838711\n",
      "num clusters:  17  lp:  -1217.3383092124982\n",
      "num clusters:  17  lp:  -1244.8653708707593\n",
      "num clusters:  18  lp:  -1239.2960050145352\n",
      "num clusters:  18  lp:  -1252.0547959444311\n",
      "num clusters:  19  lp:  -1207.730252256024\n",
      "num clusters:  19  lp:  -1235.0584251193313\n",
      "num clusters:  19  lp:  -1245.1014027516014\n",
      "num clusters:  19  lp:  -1235.7357398688273\n",
      "num clusters:  18  lp:  -1212.4430886011642\n",
      "num clusters:  17  lp:  -1223.9046241952706\n",
      "num clusters:  17  lp:  -1199.9969449001858\n",
      "num clusters:  18  lp:  -1248.9263386630262\n",
      "num clusters:  19  lp:  -1206.0682643440527\n",
      "num clusters:  20  lp:  -1246.5095431881277\n",
      "num clusters:  18  lp:  -1272.5817695563749\n",
      "num clusters:  17  lp:  -1252.7028849330072\n",
      "num clusters:  18  lp:  -1225.222921301135\n",
      "num clusters:  18  lp:  -1226.2840906731558\n",
      "num clusters:  18  lp:  -1214.2186515905437\n",
      "num clusters:  21  lp:  -1251.7728480460178\n",
      "num clusters:  19  lp:  -1238.6946097211817\n",
      "num clusters:  20  lp:  -1248.0315295861867\n",
      "num clusters:  18  lp:  -1188.473484714873\n",
      "num clusters:  18  lp:  -1231.0948969265658\n",
      "num clusters:  19  lp:  -1265.1786536619807\n",
      "num clusters:  18  lp:  -1213.7781010084045\n",
      "num clusters:  18  lp:  -1247.3572826473678\n",
      "num clusters:  19  lp:  -1222.772298342987\n",
      "num clusters:  19  lp:  -1239.7482948533832\n",
      "num clusters:  19  lp:  -1244.4991028781953\n",
      "num clusters:  19  lp:  -1245.9915684358068\n",
      "num clusters:  18  lp:  -1218.7244596314304\n",
      "num clusters:  19  lp:  -1259.1017447024365\n",
      "num clusters:  18  lp:  -1201.68032667926\n",
      "num clusters:  21  lp:  -1245.6993214395807\n",
      "num clusters:  20  lp:  -1275.0579903271737\n",
      "num clusters:  19  lp:  -1224.42721717151\n",
      "num clusters:  18  lp:  -1260.5171634811736\n",
      "num clusters:  18  lp:  -1230.9366521028132\n",
      "num clusters:  19  lp:  -1191.2952273087744\n",
      "num clusters:  19  lp:  -1209.9145670803687\n",
      "num clusters:  19  lp:  -1232.5453716027678\n",
      "num clusters:  18  lp:  -1213.2899190073645\n",
      "num clusters:  18  lp:  -1235.4766780803366\n",
      "num clusters:  18  lp:  -1243.9695554612367\n",
      "num clusters:  17  lp:  -1216.6798463791192\n",
      "num clusters:  16  lp:  -1237.2847452634178\n",
      "num clusters:  16  lp:  -1181.5345847678523\n",
      "num clusters:  17  lp:  -1233.9101761420718\n",
      "num clusters:  19  lp:  -1263.4384847971833\n",
      "num clusters:  20  lp:  -1265.754961134485\n",
      "num clusters:  17  lp:  -1242.5018203410323\n",
      "num clusters:  16  lp:  -1216.0269715357745\n",
      "num clusters:  16  lp:  -1219.633069979668\n",
      "num clusters:  16  lp:  -1212.5779418863058\n",
      "num clusters:  16  lp:  -1205.4046941939282\n",
      "num clusters:  17  lp:  -1226.3312129665057\n",
      "num clusters:  18  lp:  -1230.9770890799628\n",
      "num clusters:  18  lp:  -1217.0481405778069\n",
      "num clusters:  17  lp:  -1213.772482369578\n",
      "num clusters:  17  lp:  -1220.1863086683575\n",
      "num clusters:  19  lp:  -1234.4375732853223\n",
      "num clusters:  19  lp:  -1239.4149860192001\n",
      "num clusters:  17  lp:  -1191.270281489021\n",
      "num clusters:  17  lp:  -1239.8665972297115\n",
      "num clusters:  17  lp:  -1238.6485522594412\n",
      "num clusters:  17  lp:  -1234.796416875788\n",
      "num clusters:  18  lp:  -1216.6449925627044\n",
      "num clusters:  18  lp:  -1270.6896582763075\n",
      "\n"
     ]
    }
   ],
   "source": [
    "# Fit the correct model\n",
    "num_samples = 100\n",
    "\n",
    "# Run the Gibbs sampler with the true hyperparameters\n",
    "print(\"true num clusters: \", len(clusters))\n",
    "print(\"true lp: \", true_model.log_probability(data, clusters, weights))\n",
    "gibbs_samples = true_model.gibbs_sample_posterior(data, num_samples=num_samples, init_method=\"background\")"
   ]
  },
  {
   "cell_type": "code",
   "execution_count": 10,
   "metadata": {
    "scrolled": false
   },
   "outputs": [
    {
     "name": "stdout",
     "output_type": "stream",
     "text": [
      "true num clusters:  17\n",
      "true lp:  -1228.4005722017318\n"
     ]
    },
    {
     "data": {
      "application/vnd.jupyter.widget-view+json": {
       "model_id": "257cc35cbb914805a4f794baaa213c9f",
       "version_major": 2,
       "version_minor": 0
      },
      "text/plain": [
       "HBox(children=(IntProgress(value=0, max=100000), HTML(value='')))"
      ]
     },
     "metadata": {},
     "output_type": "display_data"
    },
    {
     "name": "stdout",
     "output_type": "stream",
     "text": [
      "num clusters:  0  lp:  -77407.74059805475\n",
      "num clusters:  33  lp:  -2564.8424716510704\n",
      "num clusters:  29  lp:  -2408.898891046581\n",
      "num clusters:  32  lp:  -2337.764312153372\n",
      "num clusters:  31  lp:  -2381.702332273009\n",
      "num clusters:  24  lp:  -2429.0758029934113\n",
      "num clusters:  26  lp:  -2298.293411911928\n",
      "num clusters:  30  lp:  -2466.018766787044\n",
      "num clusters:  28  lp:  -2323.6869724273424\n",
      "num clusters:  30  lp:  -2692.4679226145618\n",
      "num clusters:  34  lp:  -3046.8039469263117\n",
      "num clusters:  38  lp:  -2485.5447559528693\n",
      "num clusters:  32  lp:  -2577.7917535314527\n",
      "num clusters:  28  lp:  -2396.8095848774874\n",
      "num clusters:  28  lp:  -2362.799079532464\n",
      "num clusters:  25  lp:  -2545.542503528297\n",
      "num clusters:  26  lp:  -2451.614268952545\n",
      "num clusters:  32  lp:  -3461.2438536783848\n",
      "num clusters:  29  lp:  -2812.6324532958906\n",
      "num clusters:  32  lp:  -2930.6452349899705\n",
      "num clusters:  38  lp:  -2965.108863898085\n",
      "num clusters:  36  lp:  -2715.3251420187808\n",
      "num clusters:  31  lp:  -2720.2384718542708\n",
      "num clusters:  39  lp:  -2671.410767351644\n",
      "num clusters:  30  lp:  -2703.609743026459\n",
      "num clusters:  33  lp:  -2714.9960350687015\n",
      "num clusters:  31  lp:  -2628.8864904339616\n",
      "num clusters:  28  lp:  -2474.949893479588\n",
      "num clusters:  29  lp:  -2985.2962927699173\n",
      "num clusters:  31  lp:  -3642.5810540964517\n",
      "num clusters:  32  lp:  -2659.8309753963417\n",
      "num clusters:  31  lp:  -2873.722895791193\n",
      "num clusters:  32  lp:  -2544.1489251753774\n",
      "num clusters:  33  lp:  -2487.946558143415\n",
      "num clusters:  39  lp:  -2820.4455217089353\n",
      "num clusters:  35  lp:  -2674.6048200793903\n",
      "num clusters:  33  lp:  -3600.0432394632035\n",
      "num clusters:  32  lp:  -2835.168608181407\n",
      "num clusters:  31  lp:  -2435.7048736281804\n",
      "num clusters:  27  lp:  -5451.016244367239\n",
      "num clusters:  29  lp:  -2610.149595107335\n",
      "num clusters:  33  lp:  -3608.345412675373\n",
      "num clusters:  34  lp:  -2389.211157194094\n",
      "num clusters:  28  lp:  -2883.1264114047162\n",
      "num clusters:  32  lp:  -2853.782630476623\n",
      "num clusters:  30  lp:  -2866.405442897225\n",
      "num clusters:  32  lp:  -3295.24261474245\n",
      "num clusters:  32  lp:  -2456.789519061652\n",
      "num clusters:  31  lp:  -2437.1234971669\n",
      "num clusters:  28  lp:  -2351.678783803871\n",
      "num clusters:  32  lp:  -2659.18424739816\n",
      "num clusters:  31  lp:  -2863.1699258424796\n",
      "num clusters:  35  lp:  -3319.958980169713\n",
      "num clusters:  29  lp:  -4543.075166921739\n",
      "num clusters:  32  lp:  -2863.5936833474116\n",
      "num clusters:  34  lp:  -3059.1122906273213\n",
      "num clusters:  29  lp:  -3459.5121883164766\n",
      "num clusters:  29  lp:  -3511.317689772946\n",
      "num clusters:  29  lp:  -2931.915386902975\n",
      "num clusters:  30  lp:  -3076.394249213339\n",
      "num clusters:  31  lp:  -2927.710635512912\n",
      "num clusters:  34  lp:  -2829.074353864832\n",
      "num clusters:  32  lp:  -2542.3531496147093\n",
      "num clusters:  31  lp:  -2706.5599851213196\n",
      "num clusters:  37  lp:  -2841.6486281936795\n",
      "num clusters:  32  lp:  -2638.4529628658865\n",
      "num clusters:  34  lp:  -2556.44420837672\n",
      "num clusters:  32  lp:  -2622.7502368811647\n",
      "num clusters:  31  lp:  -3558.3638286550245\n",
      "num clusters:  32  lp:  -2887.155618352887\n",
      "num clusters:  33  lp:  -3237.5537812142024\n",
      "num clusters:  30  lp:  -2950.825486722805\n",
      "num clusters:  33  lp:  -2779.3859566868505\n",
      "num clusters:  33  lp:  -3164.369999984914\n",
      "num clusters:  31  lp:  -3091.5040518155156\n",
      "num clusters:  36  lp:  -2614.9553363277537\n",
      "num clusters:  31  lp:  -3638.8031745815874\n",
      "num clusters:  28  lp:  -2722.3280454399037\n",
      "num clusters:  34  lp:  -2575.3239484102414\n",
      "num clusters:  29  lp:  -3231.601052587046\n",
      "num clusters:  35  lp:  -3086.7443748901255\n",
      "num clusters:  31  lp:  -3689.080026061722\n",
      "num clusters:  36  lp:  -2880.3057502255233\n",
      "num clusters:  35  lp:  -2693.7586221502384\n",
      "num clusters:  35  lp:  -3549.4422885482154\n",
      "num clusters:  35  lp:  -4039.3769000114658\n",
      "num clusters:  32  lp:  -2556.208475952519\n",
      "num clusters:  35  lp:  -2918.4664110537083\n",
      "num clusters:  38  lp:  -2630.004736986627\n",
      "num clusters:  38  lp:  -2540.8282461032404\n",
      "num clusters:  36  lp:  -2622.079258380767\n",
      "num clusters:  34  lp:  -2642.65108607238\n",
      "num clusters:  35  lp:  -3140.6144197694252\n",
      "num clusters:  32  lp:  -5168.2561122063435\n",
      "num clusters:  38  lp:  -3072.648932223112\n",
      "num clusters:  34  lp:  -3022.1571905232713\n",
      "num clusters:  43  lp:  -3124.4960955136844\n",
      "num clusters:  33  lp:  -3438.8898870360085\n",
      "num clusters:  32  lp:  -3003.8031894129635\n",
      "num clusters:  33  lp:  -2844.7789939853487\n",
      "num clusters:  35  lp:  -2977.835028101458\n",
      "num clusters:  33  lp:  -3171.7602448700627\n",
      "num clusters:  32  lp:  -2956.7474679024867\n",
      "num clusters:  32  lp:  -2672.268911883095\n",
      "num clusters:  30  lp:  -3140.29828134564\n",
      "num clusters:  34  lp:  -3057.3220109276663\n",
      "num clusters:  25  lp:  -4056.86170172754\n",
      "num clusters:  29  lp:  -3948.3811821424924\n",
      "num clusters:  29  lp:  -2719.9976694626557\n",
      "num clusters:  24  lp:  -2762.451419184115\n",
      "num clusters:  33  lp:  -3319.1530137667287\n",
      "num clusters:  28  lp:  -2608.176509084371\n",
      "num clusters:  32  lp:  -2654.281977873439\n",
      "num clusters:  32  lp:  -3873.4038717299545\n",
      "num clusters:  29  lp:  -2775.929556543304\n",
      "num clusters:  30  lp:  -2627.199938018375\n",
      "num clusters:  32  lp:  -2957.5289784348547\n",
      "num clusters:  35  lp:  -2738.3188239913\n",
      "num clusters:  30  lp:  -3049.335454541765\n",
      "num clusters:  30  lp:  -3645.3605998444195\n",
      "num clusters:  31  lp:  -2825.161705328067\n",
      "num clusters:  30  lp:  -2945.671106180207\n",
      "num clusters:  29  lp:  -4176.811372925999\n",
      "num clusters:  29  lp:  -4012.7795560168806\n",
      "num clusters:  30  lp:  -4200.004893574975\n",
      "num clusters:  31  lp:  -3176.905075631641\n",
      "num clusters:  27  lp:  -4278.836347063479\n",
      "num clusters:  30  lp:  -4299.014492374213\n",
      "num clusters:  34  lp:  -4160.489030794378\n",
      "num clusters:  33  lp:  -4586.247248463171\n",
      "num clusters:  31  lp:  -3600.1195853947606\n",
      "num clusters:  32  lp:  -4254.992189080555\n",
      "num clusters:  31  lp:  -3788.955787379252\n",
      "num clusters:  34  lp:  -2957.482082732899\n",
      "num clusters:  32  lp:  -3795.836815947152\n",
      "num clusters:  30  lp:  -3792.73820112706\n",
      "num clusters:  30  lp:  -4121.379744278856\n",
      "num clusters:  34  lp:  -2764.569552235078\n",
      "num clusters:  34  lp:  -2859.1990262007257\n",
      "num clusters:  32  lp:  -2754.640251502624\n",
      "num clusters:  26  lp:  -4617.565018829043\n",
      "num clusters:  31  lp:  -3172.1635180188623\n",
      "num clusters:  29  lp:  -4029.418874637826\n",
      "num clusters:  30  lp:  -4207.445386054105\n",
      "num clusters:  30  lp:  -3818.0104260429753\n",
      "num clusters:  31  lp:  -3852.0831855337296\n",
      "num clusters:  27  lp:  -2923.951322238664\n",
      "num clusters:  29  lp:  -4086.449494283071\n",
      "num clusters:  29  lp:  -3597.9150756498125\n",
      "num clusters:  27  lp:  -3669.973423361047\n",
      "num clusters:  29  lp:  -4322.821713325156\n",
      "num clusters:  28  lp:  -3114.4264612504944\n",
      "num clusters:  27  lp:  -3154.6054300553296\n",
      "num clusters:  30  lp:  -2826.7594276289465\n",
      "num clusters:  28  lp:  -3124.701191878227\n",
      "num clusters:  29  lp:  -2896.2451683365543\n",
      "num clusters:  24  lp:  -3112.25289002354\n",
      "num clusters:  29  lp:  -2725.23123865614\n",
      "num clusters:  29  lp:  -2794.034244210104\n",
      "num clusters:  31  lp:  -3259.337410732426\n",
      "num clusters:  29  lp:  -2777.626667614561\n",
      "num clusters:  31  lp:  -3165.042516106705\n",
      "num clusters:  32  lp:  -3394.0848105101004\n",
      "num clusters:  31  lp:  -2881.0416947717235\n",
      "num clusters:  29  lp:  -3002.397573669259\n",
      "num clusters:  29  lp:  -2743.9186686587777\n",
      "num clusters:  29  lp:  -3751.070757411242\n",
      "num clusters:  29  lp:  -2920.0509212567176\n",
      "num clusters:  29  lp:  -3252.72573768281\n",
      "num clusters:  28  lp:  -3203.4477009649854\n",
      "num clusters:  26  lp:  -2877.205635769057\n",
      "num clusters:  29  lp:  -2910.5331124257\n",
      "num clusters:  29  lp:  -3526.3791113194607\n",
      "num clusters:  27  lp:  -3736.7555078115706\n",
      "num clusters:  27  lp:  -2596.7890642466396\n",
      "num clusters:  30  lp:  -2982.3129852733045\n",
      "num clusters:  30  lp:  -3025.907691612109\n",
      "num clusters:  31  lp:  -3681.635096171888\n",
      "num clusters:  26  lp:  -2911.908093490739\n",
      "num clusters:  30  lp:  -2912.9649117491927\n",
      "num clusters:  24  lp:  -3092.7825999943166\n",
      "num clusters:  26  lp:  -2818.5199738688398\n",
      "num clusters:  28  lp:  -2699.1153588488096\n",
      "num clusters:  34  lp:  -2923.10899388353\n",
      "num clusters:  31  lp:  -3022.026363185401\n",
      "num clusters:  25  lp:  -3180.8799739478536\n",
      "num clusters:  26  lp:  -2838.477046335256\n",
      "num clusters:  24  lp:  -3202.670644543269\n",
      "num clusters:  27  lp:  -2975.7263060283835\n"
     ]
    },
    {
     "name": "stdout",
     "output_type": "stream",
     "text": [
      "num clusters:  32  lp:  -3373.5594041977965\n",
      "num clusters:  35  lp:  -3147.6646739500266\n",
      "num clusters:  36  lp:  -2597.8313631737515\n",
      "num clusters:  28  lp:  -4016.3945162714535\n",
      "num clusters:  27  lp:  -2879.6587961687223\n",
      "num clusters:  26  lp:  -3306.042992128486\n",
      "num clusters:  25  lp:  -3576.4565955782064\n",
      "num clusters:  27  lp:  -2968.2229618098004\n",
      "num clusters:  27  lp:  -2637.5600667484505\n",
      "num clusters:  29  lp:  -2789.904127828002\n",
      "num clusters:  32  lp:  -2618.1167796080804\n",
      "\n"
     ]
    }
   ],
   "source": [
    "# Fit the correct model with RJMCMC\n",
    "num_samples = 100000\n",
    "\n",
    "print(\"true num clusters: \", len(clusters))\n",
    "print(\"true lp: \", true_model.log_probability(data, clusters, weights))\n",
    "\n",
    "rjmcmc_samples = true_model.rjmcmc_sample_posterior(data, num_samples=num_samples, \n",
    "#                                                     init_method=\"given\", clusters=clusters, weights=weights,\n",
    "                                                    init_method=\"background\")"
   ]
  },
  {
   "cell_type": "code",
   "execution_count": 11,
   "metadata": {},
   "outputs": [
    {
     "name": "stdout",
     "output_type": "stream",
     "text": [
      "true num clusters:  17\n",
      "true lp:  -1228.4005722017318\n"
     ]
    },
    {
     "data": {
      "application/vnd.jupyter.widget-view+json": {
       "model_id": "772409814c3c412eb3bb52ebd845d7bf",
       "version_major": 2,
       "version_minor": 0
      },
      "text/plain": [
       "HBox(children=(IntProgress(value=0, max=1000), HTML(value='')))"
      ]
     },
     "metadata": {},
     "output_type": "display_data"
    },
    {
     "name": "stdout",
     "output_type": "stream",
     "text": [
      "num clusters:  0  lp:  -77407.74059805475\n",
      "num clusters:  13  lp:  -22776.199675228538\n",
      "num clusters:  17  lp:  -2634.7535635505765\n",
      "num clusters:  17  lp:  -1477.832602161699\n",
      "num clusters:  18  lp:  -1416.0863769845203\n",
      "num clusters:  20  lp:  -1349.9029549235893\n",
      "num clusters:  19  lp:  -1247.3140335217636\n",
      "num clusters:  18  lp:  -1263.835880726077\n",
      "num clusters:  18  lp:  -1227.6253874182228\n",
      "num clusters:  16  lp:  -1225.4658971444032\n",
      "num clusters:  16  lp:  -1250.6716737652273\n",
      "num clusters:  16  lp:  -1220.4917402046583\n",
      "num clusters:  15  lp:  -1239.8833763331972\n",
      "num clusters:  16  lp:  -1203.5129788342456\n",
      "num clusters:  17  lp:  -1231.732224420076\n",
      "num clusters:  20  lp:  -1217.4017744327052\n",
      "num clusters:  17  lp:  -1271.9504163631068\n",
      "num clusters:  17  lp:  -1185.0761356188495\n",
      "num clusters:  16  lp:  -1228.779159326205\n",
      "num clusters:  16  lp:  -1256.050415271713\n",
      "num clusters:  19  lp:  -1226.8237265741454\n",
      "num clusters:  19  lp:  -1271.8632411773042\n",
      "num clusters:  17  lp:  -1256.5121212372314\n",
      "num clusters:  17  lp:  -1220.7679445327651\n",
      "num clusters:  17  lp:  -1259.2017533168985\n",
      "num clusters:  16  lp:  -1240.2839422339148\n",
      "num clusters:  17  lp:  -1259.5481512986325\n",
      "num clusters:  17  lp:  -1249.5886240263123\n",
      "num clusters:  18  lp:  -1229.497440692291\n",
      "num clusters:  15  lp:  -1202.3969866229975\n",
      "num clusters:  18  lp:  -1193.5979244434359\n",
      "num clusters:  16  lp:  -1237.975881992988\n",
      "num clusters:  15  lp:  -1265.5920481575781\n",
      "num clusters:  19  lp:  -1191.4897549020882\n",
      "num clusters:  20  lp:  -1249.489765022026\n",
      "num clusters:  24  lp:  -1276.5471116849194\n",
      "num clusters:  20  lp:  -1313.336930274802\n",
      "num clusters:  17  lp:  -1242.577806338759\n"
     ]
    },
    {
     "ename": "KeyboardInterrupt",
     "evalue": "",
     "output_type": "error",
     "traceback": [
      "\u001b[0;31m---------------------------------------------------------------------------\u001b[0m",
      "\u001b[0;31mKeyboardInterrupt\u001b[0m                         Traceback (most recent call last)",
      "\u001b[0;32m<ipython-input-11-4c9f5b1bffcb>\u001b[0m in \u001b[0;36m<module>\u001b[0;34m\u001b[0m\n\u001b[1;32m      7\u001b[0m gibbsmh_samples = true_model.gibbs_mh_sample_posterior(\n\u001b[1;32m      8\u001b[0m     \u001b[0mdata\u001b[0m\u001b[0;34m,\u001b[0m \u001b[0mnum_samples\u001b[0m\u001b[0;34m=\u001b[0m\u001b[0mnum_samples\u001b[0m\u001b[0;34m,\u001b[0m\u001b[0;34m\u001b[0m\u001b[0;34m\u001b[0m\u001b[0m\n\u001b[0;32m----> 9\u001b[0;31m     init_method=\"background\")\n\u001b[0m",
      "\u001b[0;32m~/Projects/latent_hawkes/src/neyman_scott/models.py\u001b[0m in \u001b[0;36mgibbs_mh_sample_posterior\u001b[0;34m(self, data, num_samples, verbose, init_method, clusters, weights, num_mh_per_gibbs)\u001b[0m\n\u001b[1;32m   1118\u001b[0m             \u001b[0;32mfor\u001b[0m \u001b[0mz\u001b[0m\u001b[0;34m,\u001b[0m \u001b[0mx\u001b[0m \u001b[0;32min\u001b[0m \u001b[0mzip\u001b[0m\u001b[0;34m(\u001b[0m\u001b[0mparents\u001b[0m\u001b[0;34m,\u001b[0m \u001b[0mdata\u001b[0m\u001b[0;34m)\u001b[0m\u001b[0;34m:\u001b[0m\u001b[0;34m\u001b[0m\u001b[0;34m\u001b[0m\u001b[0m\n\u001b[1;32m   1119\u001b[0m                 \u001b[0;32mif\u001b[0m \u001b[0mz\u001b[0m \u001b[0;34m>=\u001b[0m \u001b[0;36m0\u001b[0m\u001b[0;34m:\u001b[0m\u001b[0;34m\u001b[0m\u001b[0;34m\u001b[0m\u001b[0m\n\u001b[0;32m-> 1120\u001b[0;31m                     \u001b[0mclusters\u001b[0m\u001b[0;34m[\u001b[0m\u001b[0mz\u001b[0m\u001b[0;34m]\u001b[0m\u001b[0;34m.\u001b[0m\u001b[0madd_datapoint\u001b[0m\u001b[0;34m(\u001b[0m\u001b[0mx\u001b[0m\u001b[0;34m)\u001b[0m\u001b[0;34m\u001b[0m\u001b[0;34m\u001b[0m\u001b[0m\n\u001b[0m\u001b[1;32m   1121\u001b[0m \u001b[0;34m\u001b[0m\u001b[0m\n\u001b[1;32m   1122\u001b[0m             \u001b[0;31m# Resample weights\u001b[0m\u001b[0;34m\u001b[0m\u001b[0;34m\u001b[0m\u001b[0;34m\u001b[0m\u001b[0m\n",
      "\u001b[0;32m~/Projects/latent_hawkes/src/neyman_scott/clusters.py\u001b[0m in \u001b[0;36madd_datapoint\u001b[0;34m(self, x)\u001b[0m\n\u001b[1;32m    743\u001b[0m         \u001b[0mmark\u001b[0m \u001b[0;34m=\u001b[0m \u001b[0mx\u001b[0m\u001b[0;34m[\u001b[0m\u001b[0;36m2\u001b[0m\u001b[0;34m:\u001b[0m\u001b[0;34m]\u001b[0m\u001b[0;34m\u001b[0m\u001b[0;34m\u001b[0m\u001b[0m\n\u001b[1;32m    744\u001b[0m         \u001b[0mself\u001b[0m\u001b[0;34m.\u001b[0m\u001b[0mnode_cluster\u001b[0m\u001b[0;34m.\u001b[0m\u001b[0madd_datapoint\u001b[0m\u001b[0;34m(\u001b[0m\u001b[0mnode\u001b[0m\u001b[0;34m)\u001b[0m\u001b[0;34m\u001b[0m\u001b[0;34m\u001b[0m\u001b[0m\n\u001b[0;32m--> 745\u001b[0;31m         \u001b[0mself\u001b[0m\u001b[0;34m.\u001b[0m\u001b[0mtime_cluster\u001b[0m\u001b[0;34m.\u001b[0m\u001b[0madd_datapoint\u001b[0m\u001b[0;34m(\u001b[0m\u001b[0mtime\u001b[0m\u001b[0;34m)\u001b[0m\u001b[0;34m\u001b[0m\u001b[0;34m\u001b[0m\u001b[0m\n\u001b[0m\u001b[1;32m    746\u001b[0m         \u001b[0mself\u001b[0m\u001b[0;34m.\u001b[0m\u001b[0mmark_cluster\u001b[0m\u001b[0;34m.\u001b[0m\u001b[0madd_datapoint\u001b[0m\u001b[0;34m(\u001b[0m\u001b[0mmark\u001b[0m\u001b[0;34m)\u001b[0m\u001b[0;34m\u001b[0m\u001b[0;34m\u001b[0m\u001b[0m\n\u001b[1;32m    747\u001b[0m \u001b[0;34m\u001b[0m\u001b[0m\n",
      "\u001b[0;32m~/Projects/latent_hawkes/src/neyman_scott/clusters.py\u001b[0m in \u001b[0;36madd_datapoint\u001b[0;34m(self, x)\u001b[0m\n\u001b[1;32m    512\u001b[0m             \u001b[0mself\u001b[0m\u001b[0;34m.\u001b[0m\u001b[0mt_min\u001b[0m \u001b[0;34m=\u001b[0m \u001b[0mx\u001b[0m\u001b[0;34m\u001b[0m\u001b[0;34m\u001b[0m\u001b[0m\n\u001b[1;32m    513\u001b[0m \u001b[0;34m\u001b[0m\u001b[0m\n\u001b[0;32m--> 514\u001b[0;31m         \u001b[0mself\u001b[0m\u001b[0;34m.\u001b[0m\u001b[0m_params\u001b[0m \u001b[0;34m=\u001b[0m \u001b[0;34m(\u001b[0m\u001b[0mself\u001b[0m\u001b[0;34m.\u001b[0m\u001b[0mt_min\u001b[0m \u001b[0;34m-\u001b[0m \u001b[0mnpr\u001b[0m\u001b[0;34m.\u001b[0m\u001b[0mexponential\u001b[0m\u001b[0;34m(\u001b[0m\u001b[0mscale\u001b[0m\u001b[0;34m=\u001b[0m\u001b[0mself\u001b[0m\u001b[0;34m.\u001b[0m\u001b[0mtau\u001b[0m \u001b[0;34m/\u001b[0m \u001b[0mself\u001b[0m\u001b[0;34m.\u001b[0m\u001b[0msize\u001b[0m\u001b[0;34m)\u001b[0m\u001b[0;34m,\u001b[0m\u001b[0;34m)\u001b[0m\u001b[0;34m\u001b[0m\u001b[0;34m\u001b[0m\u001b[0m\n\u001b[0m\u001b[1;32m    515\u001b[0m \u001b[0;34m\u001b[0m\u001b[0m\n\u001b[1;32m    516\u001b[0m     \u001b[0;32mdef\u001b[0m \u001b[0mremove_datapoint\u001b[0m\u001b[0;34m(\u001b[0m\u001b[0mself\u001b[0m\u001b[0;34m,\u001b[0m \u001b[0mx\u001b[0m\u001b[0;34m)\u001b[0m\u001b[0;34m:\u001b[0m\u001b[0;34m\u001b[0m\u001b[0;34m\u001b[0m\u001b[0m\n",
      "\u001b[0;31mKeyboardInterrupt\u001b[0m: "
     ]
    }
   ],
   "source": [
    "# Fit the correct model with RJMCMC\n",
    "num_samples = 1000\n",
    "\n",
    "print(\"true num clusters: \", len(clusters))\n",
    "print(\"true lp: \", true_model.log_probability(data, clusters, weights))\n",
    "\n",
    "gibbsmh_samples = true_model.gibbs_mh_sample_posterior(\n",
    "    data, num_samples=num_samples, \n",
    "    init_method=\"background\")"
   ]
  },
  {
   "cell_type": "code",
   "execution_count": 38,
   "metadata": {},
   "outputs": [
    {
     "data": {
      "image/png": "[encoded data removed]",
      "text/plain": [
       "<Figure size 234x252 with 2 Axes>"
      ]
     },
     "metadata": {},
     "output_type": "display_data"
    }
   ],
   "source": [
    "# Get the run time from the progress bars above\n",
    "gibbs_time = 3 * 60 + 56\n",
    "rjmcmc_time = 5 * 60 + 52\n",
    "gibbsmh_time = 6 * 60 + 0\n",
    "\n",
    "plt.figure(figsize=(3.25, 3.5))\n",
    "\n",
    "plt.subplot(211)\n",
    "\n",
    "# Plot the log joint probability\n",
    "plt.plot(np.linspace(0, gibbs_time, len(gibbs_samples)),\n",
    "         np.array([s[\"log_prob\"] for s in gibbs_samples]) / len(data),\n",
    "         label=\"Gibbs\")\n",
    "plt.plot(np.linspace(0, gibbsmh_time, len(gibbsmh_samples)),\n",
    "         np.array([s[\"log_prob\"] for s in gibbsmh_samples]) / len(data),\n",
    "         label=\"MH+Gibbs\")\n",
    "plt.plot(np.linspace(0, rjmcmc_time, len(rjmcmc_samples))[::100],\n",
    "         np.array([s[\"log_prob\"] for s in rjmcmc_samples])[::100] / len(data),\n",
    "         label=\"RJ-MCMC\")\n",
    "\n",
    "xl = plt.xlim()\n",
    "true_lp = true_model.log_probability(data, clusters, weights)\n",
    "plt.plot(xl, true_lp / len(data) * np.ones(2), ':k', label=\"True\")\n",
    "plt.xticks([0, 100, 200, 300], [])\n",
    "plt.xlim(xl)\n",
    "\n",
    "# plt.xlabel(\"time (sec)\")\n",
    "plt.ylabel(\"log prob.\\n[nats/event]\")\n",
    "plt.ylim(-9000 / len(data), -3000 / len(data))\n",
    "# plt.legend(loc=\"center right\", fontsize=6)\n",
    "\n",
    "# Plot number of clusters\n",
    "plt.subplot(212)\n",
    "plt.plot(np.linspace(0, gibbs_time, len(gibbs_samples)),\n",
    "         np.array([s[\"num_clusters\"] for s in gibbs_samples]),\n",
    "        label=\"Gibbs\")\n",
    "plt.plot(np.linspace(0, gibbsmh_time, len(gibbsmh_samples)),\n",
    "         np.array([s[\"num_clusters\"] for s in gibbsmh_samples]),\n",
    "        label=\"MH+Gibbs\")\n",
    "plt.plot(np.linspace(0, rjmcmc_time, len(rjmcmc_samples))[::100],\n",
    "         np.array([s[\"num_clusters\"] for s in rjmcmc_samples])[::100],\n",
    "        label=\"MH\")\n",
    "\n",
    "# Plot the true likelihood\n",
    "# xl = plt.xlim()\n",
    "plt.plot(xl, len(clusters) * np.ones(2), ':k', label=\"True\")\n",
    "plt.xlim(xl)\n",
    "\n",
    "plt.xlabel(\"time (sec)\")\n",
    "plt.ylabel(\"num.\\nlatent events\")\n",
    "plt.legend(loc=\"center right\", fontsize=6)\n",
    "\n",
    "plt.tight_layout()\n",
    "\n",
    "plt.savefig(\"synth3.pdf\")"
   ]
  },
  {
   "cell_type": "markdown",
   "metadata": {},
   "source": [
    "# Debug"
   ]
  },
  {
   "cell_type": "code",
   "execution_count": 16,
   "metadata": {},
   "outputs": [],
   "source": [
    "# k = int(mu)\n",
    "# k_smpls = [k]\n",
    "# n_smpls = 20000\n",
    "# for i in range(n_smpls):\n",
    "#     move = npr.rand() < 0.5\n",
    "#     if move == 1:\n",
    "#         p_acc = mu / (k + 1)\n",
    "#         if npr.rand() < p_acc:\n",
    "#             k += 1\n",
    "            \n",
    "#     else:\n",
    "#         # remove\n",
    "#         p_acc = k / mu\n",
    "#         if npr.rand() < p_acc:\n",
    "#             k -= 1\n",
    "            \n",
    "#     k_smpls.append(k)\n",
    "    \n",
    "# plt.figure()\n",
    "# plt.plot(k_smpls)\n",
    "# plt.plot(mu * np.ones(n_smpls), '--')\n",
    "\n",
    "# from scipy.stats import poisson\n",
    "# plt.figure()\n",
    "# plt.hist(k_smpls, density=True)\n",
    "# plt.plot(np.arange(2 * mu), poisson.pmf(np.arange(2 * mu), mu))"
   ]
  },
  {
   "cell_type": "code",
   "execution_count": 17,
   "metadata": {},
   "outputs": [
    {
     "data": {
      "text/plain": [
       "[<matplotlib.lines.Line2D at 0x118ced080>]"
      ]
     },
     "execution_count": 17,
     "metadata": {},
     "output_type": "execute_result"
    },
    {
     "data": {
      "image/png": "[encoded data removed]",
      "text/plain": [
       "<Figure size 432x288 with 1 Axes>"
      ]
     },
     "metadata": {
      "needs_background": "light"
     },
     "output_type": "display_data"
    },
    {
     "data": {
      "image/png": "[encoded data removed]",
      "text/plain": [
       "<Figure size 432x288 with 1 Axes>"
      ]
     },
     "metadata": {
      "needs_background": "light"
     },
     "output_type": "display_data"
    }
   ],
   "source": [
    "# k = int(mu)\n",
    "# k_smpls = [k]\n",
    "# n_smpls = 20000\n",
    "# for i in range(n_smpls):\n",
    "#     move = npr.rand() < 0.5\n",
    "#     if move == 1:\n",
    "#         p_acc = mu / (k + 1)\n",
    "#         if npr.rand() < p_acc:\n",
    "#             k += 1\n",
    "            \n",
    "#     else:\n",
    "#         # remove\n",
    "#         p_acc = k / mu\n",
    "#         if npr.rand() < p_acc:\n",
    "#             k -= 1\n",
    "            \n",
    "#     k_smpls.append(k)\n",
    "    \n",
    "# plt.figure()\n",
    "# plt.plot(k_smpls)\n",
    "# plt.plot(mu * np.ones(n_smpls), '--')\n",
    "\n",
    "# from scipy.stats import poisson\n",
    "# plt.figure()\n",
    "# plt.hist(k_smpls, density=True)\n",
    "# plt.plot(np.arange(2 * mu), poisson.pmf(np.arange(2 * mu), mu))"
   ]
  }
 ],
 "metadata": {
  "kernelspec": {
   "display_name": "Python 3",
   "language": "python",
   "name": "python3"
  },
  "language_info": {
   "codemirror_mode": {
    "name": "ipython",
    "version": 3
   },
   "file_extension": ".py",
   "mimetype": "text/x-python",
   "name": "python",
   "nbconvert_exporter": "python",
   "pygments_lexer": "ipython3",
   "version": "3.7.3"
  }
 },
 "nbformat": 4,
 "nbformat_minor": 2
}
